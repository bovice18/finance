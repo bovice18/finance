{
 "cells": [
  {
   "cell_type": "code",
   "execution_count": 1,
   "metadata": {},
   "outputs": [],
   "source": [
    "import numpy as np\n",
    "import os\n",
    "import pandas as pd\n",
    "import yfinance as yf\n",
    "import tensorflow as tf\n",
    "import matplotlib as mpl\n",
    "import matplotlib.pyplot as plt\n",
    "\n",
    "from model import fetchStockData, buildLookbackData, buildTensorData, buildRNN, plotPrediction, plotPredictionTest\n",
    "\n",
    "tf.random.set_seed(13)"
   ]
  },
  {
   "cell_type": "code",
   "execution_count": 2,
   "metadata": {},
   "outputs": [],
   "source": [
    "df = fetchStockData('GC=F', '2017-01-01', '2020-03-31')"
   ]
  },
  {
   "cell_type": "code",
   "execution_count": 3,
   "metadata": {},
   "outputs": [
    {
     "data": {
      "text/plain": [
       "<matplotlib.axes._subplots.AxesSubplot at 0x7f85f2407fd0>"
      ]
     },
     "execution_count": 3,
     "metadata": {},
     "output_type": "execute_result"
    },
    {
     "data": {
      "image/png": "[encoded data removed]",
      "text/plain": [
       "<Figure size 432x288 with 1 Axes>"
      ]
     },
     "metadata": {
      "needs_background": "light"
     },
     "output_type": "display_data"
    }
   ],
   "source": [
    "# Plot daily prices of Bitcoin\n",
    "df['Close'].plot()"
   ]
  },
  {
   "cell_type": "code",
   "execution_count": 4,
   "metadata": {},
   "outputs": [],
   "source": [
    "# Use 80% for training data\n",
    "TRAIN_SPLIT = int(len(df) * 0.8)\n",
    "\n",
    "# n day lookback\n",
    "LOOKBACK = 45\n",
    "# n day prediction\n",
    "TARGET = 12\n",
    "# n value batch\n",
    "BATCH_SIZE = 25\n",
    "\n",
    "# buffer - for shuffling, so memory doesnt overflow\n",
    "BUFFER_SIZE = 10000\n",
    "\n",
    "# For training\n",
    "EVALS = 200\n",
    "EPOCHS = 10"
   ]
  },
  {
   "cell_type": "code",
   "execution_count": 5,
   "metadata": {},
   "outputs": [
    {
     "data": {
      "text/plain": [
       "Index(['Open', 'High', 'Low', 'Close', 'Adj Close', 'Volume'], dtype='object')"
      ]
     },
     "execution_count": 5,
     "metadata": {},
     "output_type": "execute_result"
    }
   ],
   "source": [
    "df.columns"
   ]
  },
  {
   "cell_type": "code",
   "execution_count": 6,
   "metadata": {},
   "outputs": [],
   "source": [
    "# Scale data\n",
    "# Scale the data\n",
    "df_features = df[['Close', 'Volume']]\n",
    "scaled = (df_features-df_features.mean())/df_features.std()\n",
    "scaled_values = scaled.values\n",
    "\n",
    "# For later re-conversion\n",
    "MEAN = df_features.mean()['Close']\n",
    "STD = df_features.std()['Close']\n",
    "MEAN_V = df_features.mean()['Volume']\n",
    "STD_V = df_features.std()['Volume']"
   ]
  },
  {
   "cell_type": "markdown",
   "metadata": {},
   "source": [
    "### Split Train and Test Data"
   ]
  },
  {
   "cell_type": "code",
   "execution_count": 7,
   "metadata": {},
   "outputs": [],
   "source": [
    "x_train, y_train = buildLookbackData(scaled_values, \n",
    "                                     target = scaled_values[:, 0], \n",
    "                                     start_index = 0,\n",
    "                                     end_index = TRAIN_SPLIT, \n",
    "                                     lookback = LOOKBACK,\n",
    "                                     target_size = TARGET)\n",
    "\n",
    "x_test, y_test = buildLookbackData(scaled_values, \n",
    "                                   target = scaled_values[:, 0],\n",
    "                                   start_index = TRAIN_SPLIT, \n",
    "                                   end_index = None, \n",
    "                                   lookback = LOOKBACK,\n",
    "                                   target_size = TARGET)"
   ]
  },
  {
   "cell_type": "markdown",
   "metadata": {},
   "source": [
    "### Put Data Into Tensors"
   ]
  },
  {
   "cell_type": "code",
   "execution_count": 8,
   "metadata": {},
   "outputs": [],
   "source": [
    "train_data, test_data = buildTensorData(x_train, y_train, x_test, y_test, BATCH_SIZE, BUFFER_SIZE)"
   ]
  },
  {
   "cell_type": "markdown",
   "metadata": {},
   "source": [
    "### Build Model"
   ]
  },
  {
   "cell_type": "code",
   "execution_count": 9,
   "metadata": {},
   "outputs": [],
   "source": [
    "model = buildRNN((LOOKBACK, 2), 200, 14, TARGET)"
   ]
  },
  {
   "cell_type": "markdown",
   "metadata": {},
   "source": [
    "### Train Model"
   ]
  },
  {
   "cell_type": "code",
   "execution_count": null,
   "metadata": {},
   "outputs": [
    {
     "name": "stdout",
     "output_type": "stream",
     "text": [
      "Epoch 1/10\n"
     ]
    }
   ],
   "source": [
    "training_history = model.fit(train_data, \n",
    "                             epochs = EPOCHS,\n",
    "                             steps_per_epoch = EVALS,\n",
    "                             validation_data = test_data,\n",
    "                             validation_steps = 50)"
   ]
  },
  {
   "cell_type": "markdown",
   "metadata": {},
   "source": [
    "### Allow an arbitrary period of data"
   ]
  },
  {
   "cell_type": "code",
   "execution_count": null,
   "metadata": {},
   "outputs": [],
   "source": [
    "# Add in new data, not part of training/testing\n",
    "df_new = fetchStockData('GC=F', '2020-04-01', '2020-05-11')[['Close', 'Volume']]\n",
    "scaled_new = df_new.copy()\n",
    "scaled_new['Close'] = (df_new['Close'] - MEAN) / STD\n",
    "scaled_new['Volume'] = (df_new['Volume'] - MEAN_V) / STD_V\n",
    "\n",
    "df_new = pd.concat([df[['Close', 'Volume']], df_new])\n",
    "scaled_new = pd.concat([scaled, scaled_new])"
   ]
  },
  {
   "cell_type": "code",
   "execution_count": null,
   "metadata": {},
   "outputs": [],
   "source": [
    "joined, predicted = plotPrediction(model, df_new, scaled_new, np.datetime64('2020-04-01'), \n",
    "                                   LOOKBACK, TARGET, MEAN, STD, instrument='Future')\n",
    "\n",
    "joined, predicted = plotPrediction(model, df_new, scaled_new, np.datetime64('2020-04-15'), \n",
    "                                   LOOKBACK, TARGET, MEAN, STD, instrument='Future')\n",
    "\n",
    "joined, predicted = plotPrediction(model, df_new, scaled_new, np.datetime64('2020-04-29'), \n",
    "                                   LOOKBACK, TARGET, MEAN, STD, instrument='Future')\n",
    "\n",
    "joined, predicted = plotPrediction(model, df_new, scaled_new, np.datetime64('2020-05-12'), \n",
    "                                   LOOKBACK, TARGET, MEAN, STD, instrument='Future')"
   ]
  },
  {
   "cell_type": "code",
   "execution_count": null,
   "metadata": {},
   "outputs": [],
   "source": []
  }
 ],
 "metadata": {
  "kernelspec": {
   "display_name": "finance",
   "language": "python",
   "name": "finance"
  },
  "language_info": {
   "codemirror_mode": {
    "name": "ipython",
    "version": 3
   },
   "file_extension": ".py",
   "mimetype": "text/x-python",
   "name": "python",
   "nbconvert_exporter": "python",
   "pygments_lexer": "ipython3",
   "version": "3.7.5"
  }
 },
 "nbformat": 4,
 "nbformat_minor": 4
}
