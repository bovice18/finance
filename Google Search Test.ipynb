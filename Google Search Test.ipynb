{
 "cells": [
  {
   "cell_type": "code",
   "execution_count": 1,
   "metadata": {},
   "outputs": [],
   "source": [
    "import pandas as pd\n",
    "import numpy as np\n",
    "from newsplease import NewsPlease\n",
    "from googlesearch import search, get_tbs\n",
    "import yfinance as yf\n",
    "import matplotlib.pyplot as plt\n",
    "from datetime import date, timedelta, datetime\n",
    "from collections import defaultdict"
   ]
  },
  {
   "cell_type": "code",
   "execution_count": 2,
   "metadata": {},
   "outputs": [],
   "source": [
    "def getDailyArticles(query, begin, end):\n",
    "    \"\"\"\n",
    "    Fetch articles from Google based on a query and a date range\n",
    "    :param query: string to search\n",
    "    :param begin: datetime of the start date\n",
    "    :param end: datetime of the end date\n",
    "    :return: a dictionary of dates with list of dictionaries containing article data\n",
    "    \"\"\"\n",
    "    articles = defaultdict(list) \n",
    "\n",
    "    period = end - begin\n",
    "    for i in range(period.days + 1):\n",
    "        day = begin + timedelta(days=i)\n",
    "\n",
    "        # get time series of 1 day\n",
    "        tbs = get_tbs(day, day)\n",
    "        results =  search(query, lang = \"en\", tbs = tbs, country = \"usa\", tpe = \"nws\", stop=10)\n",
    "\n",
    "        for url in results:\n",
    "            try:\n",
    "                art = NewsPlease.from_url(url)\n",
    "                text = art.maintext if art.maintext else art.text\n",
    "                title = art.title\n",
    "                articles[day].append({'url':url, 'title': title, 'text': text})\n",
    "            except:\n",
    "                continue\n",
    "            if len(articles[day]) == 5:\n",
    "                break\n",
    "    return articles"
   ]
  },
  {
   "cell_type": "code",
   "execution_count": 3,
   "metadata": {},
   "outputs": [],
   "source": [
    "articles = getDailyArticles(\"NEE\", datetime(2020, 3, 2), datetime(2020, 3, 6))"
   ]
  },
  {
   "cell_type": "code",
   "execution_count": 4,
   "metadata": {},
   "outputs": [
    {
     "data": {
      "text/plain": [
       "5"
      ]
     },
     "execution_count": 4,
     "metadata": {},
     "output_type": "execute_result"
    }
   ],
   "source": [
    "len(articles)"
   ]
  },
  {
   "cell_type": "code",
   "execution_count": 5,
   "metadata": {},
   "outputs": [
    {
     "data": {
      "text/plain": [
       "dict_keys([datetime.datetime(2020, 3, 2, 0, 0), datetime.datetime(2020, 3, 3, 0, 0), datetime.datetime(2020, 3, 4, 0, 0), datetime.datetime(2020, 3, 5, 0, 0), datetime.datetime(2020, 3, 6, 0, 0)])"
      ]
     },
     "execution_count": 5,
     "metadata": {},
     "output_type": "execute_result"
    }
   ],
   "source": [
    "articles.keys()"
   ]
  },
  {
   "cell_type": "code",
   "execution_count": 6,
   "metadata": {},
   "outputs": [
    {
     "name": "stdout",
     "output_type": "stream",
     "text": [
      "2020-03-02 15:50:00\n",
      "NextEra Energy Inc. [NEE] gain 4.38% so far this year. What now?\n",
      "NextEra Energy Inc. [NYSE: NEE] plunged by -$3.09 during the normal trading session on Friday and reaching a high of $253.91 during the day while it closed the day at $252.76. NextEra Energy Inc. stock has also loss -8.94% of its value over the past 7 days. However, NEE stock has inclined by 7.59% in the 3 months of the year. Over the past six months meanwhile, it has gained 14.27% and gained 4.38% year-on date.\n",
      "The market cap for NEE stock reached $125.10 billion, with 494.94 million shares outstanding and 488.02 million shares in the current float. Compared to the average trading volume of 2.03M shares, NEE reached a trading volume of 6814978 in the most recent trading day, which is why market watchdogs consider the stock to be active.\n",
      "Here’s what leading stock market gurus have to say about NextEra Energy Inc. [NEE]:\n",
      "Based on careful and fact-backed analyses by Wall Street experts, the current consensus on the target price for NEE shares is $267.88 per share. Analysis on target price and performance of stocks is usually carefully studied by market experts, and the current Wall Street consensus on NEE stock is a recommendation set at 2.20. This rating represents a strong Buy recommendation, on the scale from 1 to 5, where 5 would mean strong sell, 4 represents Sell, 3 is Hold, and 2 indicates Buy.\n",
      "Vertical Research have made an estimate for NextEra Energy Inc. shares, keeping their opinion on the stock as Sell, with their previous recommendation back on February 25, 2020. While these analysts kept the previous recommendation, BMO Capital Markets raised their target price to Outperform. The new note on the price target was released on February 20, 2020, representing the official price target for NextEra Energy Inc. stock. Previously, the target price had yet another raise to $263, while Evercore ISI analysts kept a In-line rating on NEE stock.\n",
      "The Average True Range (ATR) for NextEra Energy Inc. is set at 5.76, with the Price to Sales ratio for NEE stock in the period of the last 12 months amounting to 6.51. The Price to Book ratio for the last quarter was 3.34, with the Price to Cash per share for the same quarter was set at 1.21. Price to Free Cash Flow for NEE in the course of the last twelve months was 21.91 with Quick ratio for the last quarter at 0.40.\n",
      "NEE stock trade performance evaluation\n",
      "NextEra Energy Inc. [NEE] fell into the red zone at the end of the last week, falling into a negative trend and dropping by -8.94. With this latest performance, NEE shares dropped by -4.89% in over the last four-week period, additionally plugging by 14.27% over the last 6 months – not to mention a rise of 34.65% in the past year of trading.\n",
      "Overbought and oversold stocks can be easily traced with the Relative Strength Index (RSI), where an RSI result of over 70 would be overbought, and any rate below 30 would indicate oversold conditions. An RSI rate of 50 would represent a neutral market momentum. The current RSI for NEE stock in for the last two-week period is set at 34.82, with the RSI for the last a single of trading hit 25.09, and the three-weeks RSI is set at 41.31 for NextEra Energy Inc. [NEE]. The present Moving Average for the last 50 days of trading for this stock 257.33, while it was recorded at 264.47 for the last single week of trading, and 228.73 for the last 200 days.\n",
      "NextEra Energy Inc. [NEE]: An insightful look at the core fundamentals\n",
      "Operating Margin for any stock indicates how profitable investing would be, and NextEra Energy Inc. [NEE] shares currently have an operating margin of +20.42 and a Gross Margin at +30.12. NextEra Energy Inc.’s Net Margin is presently recorded at +21.55.\n",
      "Return on Total Capital for NEE is now 4.45, given the latest momentum, and Return on Invested Capital for the company is 5.56. Return on Equity for this stock inclined to 10.59, with Return on Assets sitting at 3.40. When it comes to the capital structure of this company, NextEra Energy Inc. [NEE] has a Total Debt to Total Equity ratio set at 115.07. Additionally, NEE Total Debt to Total Capital is recorded at 53.50, with Total Debt to Total Assets ending up at 36.61. Long-Term Debt to Equity for the company is recorded at 101.45, with the Long-Term Debt to Total Capital now at 47.17.\n",
      "Receivables Turnover for the company is 6.65 with a Total Asset Turnover recorded at a value of 0.16.NextEra Energy Inc.’s liquidity data is similarly interesting compelling, with a Quick Ratio of 0.40 and a Current Ratio set at 0.50.\n",
      "Earnings per share (EPS) analysis for NextEra Energy Inc. [NEE] stock\n",
      "With the latest financial reports released by the company, NextEra Energy Inc. posted 2.2/share EPS, while the average EPS was predicted by analysts to be reported at 2.05/share.When compared, the two values demonstrate that the company surpassed the estimates by a Surprise Factor of 7.30%. The progress of the company may be observed through the prism of EPS growth rate, while Wall Street analysts are focusing on predicting the 5-year EPS growth rate for NEE. When it comes to the mentioned value, analysts are expecting to see the 5-year EPS growth rate for NextEra Energy Inc. go to 7.60%.\n",
      "NextEra Energy Inc. [NEE]: Insider Ownership positions\n",
      "There are presently around $97,805 million, or 81.20% of NEE stock, in the hands of institutional investors. The top three institutional holders of NEE stocks are: VANGUARD GROUP INC with ownership of 45,282,270, which is approximately 1.594% of the company’s market cap and around 0.20% of the total institutional ownership; BLACKROCK INC., holding 39,859,090 shares of the stock with an approximate value of $10.07 billion in NEE stocks shares; and STATE STREET CORP, currently with $6.75 billion in NEE stock with ownership of nearly 4.68% of the company’s market capitalization.\n",
      "Positions in NextEra Energy Inc. stocks held by institutional investors increased at the end of January and at the time of the January reporting period, where 856 institutional holders increased their position in NextEra Energy Inc. [NYSE:NEE] by around 19,682,636 shares. Additionally, 688 investors decreased positions by around 17,404,006 shares, while 285 investors held positions by with 349,860,927 shares. The mentioned changes placed institutional holdings at 386,947,569 shares, according to the latest SEC report filing. NEE stock had 203 new institutional investments in for a total of 3,651,861 shares, while 51 institutional investors sold positions of 2,111,781 shares during the same period.\n"
     ]
    }
   ],
   "source": [
    "### Example showing the attributes of a single article\n",
    "results =  search(\"NEE\", lang = \"en\", tbs = get_tbs(datetime(2020,3,2), datetime(2020,3,2)), country = \"usa\", tpe = \"nws\", stop=10)\n",
    "results = [x for x in results]\n",
    "url = results[0]\n",
    "test = NewsPlease.from_url(url)\n",
    "print(test.date_publish)\n",
    "print(test.title)\n",
    "print(test.maintext)"
   ]
  }
 ],
 "metadata": {
  "kernelspec": {
   "display_name": "finance",
   "language": "python",
   "name": "finance"
  },
  "language_info": {
   "codemirror_mode": {
    "name": "ipython",
    "version": 3
   },
   "file_extension": ".py",
   "mimetype": "text/x-python",
   "name": "python",
   "nbconvert_exporter": "python",
   "pygments_lexer": "ipython3",
   "version": "3.7.5"
  }
 },
 "nbformat": 4,
 "nbformat_minor": 4
}
